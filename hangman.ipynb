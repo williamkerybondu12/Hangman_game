{
 "cells": [
  {
   "cell_type": "code",
   "execution_count": 4,
   "id": "8243934b-80e5-47df-bdf5-00568e9457dd",
   "metadata": {},
   "outputs": [
    {
     "name": "stdout",
     "output_type": "stream",
     "text": [
      "Welcome to Hangman!\n",
      "You have 6 attempts to guess the word.\n",
      "\n",
      "Word: _ _ _ _ _ _\n",
      "Guessed letters: \n",
      "Remaining attempts: 6\n"
     ]
    },
    {
     "name": "stdin",
     "output_type": "stream",
     "text": [
      "Enter a letter:  k\n"
     ]
    },
    {
     "name": "stdout",
     "output_type": "stream",
     "text": [
      "Sorry, 'k' is not in the word.\n",
      "\n",
      "Word: _ _ _ _ _ _\n",
      "Guessed letters: k\n",
      "Remaining attempts: 5\n"
     ]
    },
    {
     "name": "stdin",
     "output_type": "stream",
     "text": [
      "Enter a letter:  w\n"
     ]
    },
    {
     "name": "stdout",
     "output_type": "stream",
     "text": [
      "Sorry, 'w' is not in the word.\n",
      "\n",
      "Word: _ _ _ _ _ _\n",
      "Guessed letters: k w\n",
      "Remaining attempts: 4\n"
     ]
    },
    {
     "name": "stdin",
     "output_type": "stream",
     "text": [
      "Enter a letter:  s\n"
     ]
    },
    {
     "name": "stdout",
     "output_type": "stream",
     "text": [
      "Good guess! 's' is in the word.\n",
      "\n",
      "Word: s _ _ _ _ _\n",
      "Guessed letters: k w s\n",
      "Remaining attempts: 4\n"
     ]
    },
    {
     "name": "stdin",
     "output_type": "stream",
     "text": [
      "Enter a letter:  l\n"
     ]
    },
    {
     "name": "stdout",
     "output_type": "stream",
     "text": [
      "Good guess! 'l' is in the word.\n",
      "\n",
      "Word: s _ l _ _ _\n",
      "Guessed letters: k w s l\n",
      "Remaining attempts: 4\n"
     ]
    },
    {
     "name": "stdin",
     "output_type": "stream",
     "text": [
      "Enter a letter:  t\n"
     ]
    },
    {
     "name": "stdout",
     "output_type": "stream",
     "text": [
      "Good guess! 't' is in the word.\n",
      "\n",
      "Word: s _ l _ _ t\n",
      "Guessed letters: k w s l t\n",
      "Remaining attempts: 4\n"
     ]
    },
    {
     "name": "stdin",
     "output_type": "stream",
     "text": [
      "Enter a letter:  h\n"
     ]
    },
    {
     "name": "stdout",
     "output_type": "stream",
     "text": [
      "Sorry, 'h' is not in the word.\n",
      "\n",
      "Word: s _ l _ _ t\n",
      "Guessed letters: k w s l t h\n",
      "Remaining attempts: 3\n"
     ]
    },
    {
     "name": "stdin",
     "output_type": "stream",
     "text": [
      "Enter a letter:  e\n"
     ]
    },
    {
     "name": "stdout",
     "output_type": "stream",
     "text": [
      "Good guess! 'e' is in the word.\n",
      "\n",
      "Word: s e l e _ t\n",
      "Guessed letters: k w s l t h e\n",
      "Remaining attempts: 3\n"
     ]
    },
    {
     "name": "stdin",
     "output_type": "stream",
     "text": [
      "Enter a letter:  k\n"
     ]
    },
    {
     "name": "stdout",
     "output_type": "stream",
     "text": [
      "You already guessed that letter.\n",
      "\n",
      "Word: s e l e _ t\n",
      "Guessed letters: k w s l t h e\n",
      "Remaining attempts: 3\n"
     ]
    },
    {
     "name": "stdin",
     "output_type": "stream",
     "text": [
      "Enter a letter:  l\n"
     ]
    },
    {
     "name": "stdout",
     "output_type": "stream",
     "text": [
      "You already guessed that letter.\n",
      "\n",
      "Word: s e l e _ t\n",
      "Guessed letters: k w s l t h e\n",
      "Remaining attempts: 3\n"
     ]
    },
    {
     "name": "stdin",
     "output_type": "stream",
     "text": [
      "Enter a letter:  f\n"
     ]
    },
    {
     "name": "stdout",
     "output_type": "stream",
     "text": [
      "Sorry, 'f' is not in the word.\n",
      "\n",
      "Word: s e l e _ t\n",
      "Guessed letters: k w s l t h e f\n",
      "Remaining attempts: 2\n"
     ]
    },
    {
     "name": "stdin",
     "output_type": "stream",
     "text": [
      "Enter a letter:  e\n"
     ]
    },
    {
     "name": "stdout",
     "output_type": "stream",
     "text": [
      "You already guessed that letter.\n",
      "\n",
      "Word: s e l e _ t\n",
      "Guessed letters: k w s l t h e f\n",
      "Remaining attempts: 2\n"
     ]
    },
    {
     "name": "stdin",
     "output_type": "stream",
     "text": [
      "Enter a letter:  c\n"
     ]
    },
    {
     "name": "stdout",
     "output_type": "stream",
     "text": [
      "Good guess! 'c' is in the word.\n",
      "\n",
      "Congratulations! You guessed the word: select\n"
     ]
    }
   ],
   "source": [
    "import random\n",
    "\n",
    "def hangman():\n",
    "    # Predefined list of words\n",
    "    words = [\"classes\",\"hangman\",\"select\",\"letter\",\"gaming\"]\n",
    "    word = random.choice(words)  # Randomly select a word\n",
    "    guessed = [\"_\"] * len(word)  # Represent unguessed letters\n",
    "    attempts = 6  # Limit incorrect guesses\n",
    "    guessed_letters = []  # Keep track of guessed letters\n",
    "\n",
    "    print(\"Welcome to Hangman!\")\n",
    "    print(\"You have 6 attempts to guess the word.\")\n",
    "\n",
    "    while attempts > 0 and \"_\" in guessed:\n",
    "        print(\"\\nWord:\", \" \".join(guessed))\n",
    "        print(\"Guessed letters:\", \" \".join(guessed_letters))\n",
    "        print(f\"Remaining attempts: {attempts}\")\n",
    "\n",
    "        guess = input(\"Enter a letter: \").lower()\n",
    "\n",
    "        # Input validation\n",
    "        if len(guess) != 1 or not guess.isalpha():\n",
    "            print(\"Please enter a single alphabet letter.\")\n",
    "            continue\n",
    "        if guess in guessed_letters:\n",
    "            print(\"You already guessed that letter.\")\n",
    "            continue\n",
    "\n",
    "        guessed_letters.append(guess)\n",
    "\n",
    "        if guess in word:\n",
    "            print(f\"Good guess! '{guess}' is in the word.\")\n",
    "            for i in range(len(word)):\n",
    "                if word[i] == guess:\n",
    "                    guessed[i] = guess\n",
    "        else:\n",
    "            print(f\"Sorry, '{guess}' is not in the word.\")\n",
    "            attempts -= 1\n",
    "\n",
    "    # Game result\n",
    "    if \"_\" not in guessed:\n",
    "        print(\"\\nCongratulations! You guessed the word:\", word)\n",
    "    else:\n",
    "        print(\"\\nOut of attempts! The word was:\", word)\n",
    "\n",
    "# Run the game\n",
    "hangman()\n",
    "\n"
   ]
  },
  {
   "cell_type": "code",
   "execution_count": null,
   "id": "7acfd026-87f8-49a4-b1f8-2c67ef41d0c9",
   "metadata": {},
   "outputs": [],
   "source": []
  }
 ],
 "metadata": {
  "kernelspec": {
   "display_name": "Python 3 (ipykernel)",
   "language": "python",
   "name": "python3"
  },
  "language_info": {
   "codemirror_mode": {
    "name": "ipython",
    "version": 3
   },
   "file_extension": ".py",
   "mimetype": "text/x-python",
   "name": "python",
   "nbconvert_exporter": "python",
   "pygments_lexer": "ipython3",
   "version": "3.13.5"
  }
 },
 "nbformat": 4,
 "nbformat_minor": 5
}
